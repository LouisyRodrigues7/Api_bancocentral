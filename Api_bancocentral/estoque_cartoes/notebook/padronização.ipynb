{
 "cells": [
  {
   "cell_type": "code",
   "execution_count": 1,
   "metadata": {},
   "outputs": [],
   "source": [
    "import pandas as pd\n",
    "import glob\n",
    "import os"
   ]
  },
  {
   "cell_type": "markdown",
   "metadata": {},
   "source": [
    "Setando arquivos, lendo e concatenando todos em um único DataFrame"
   ]
  },
  {
   "cell_type": "code",
   "execution_count": 25,
   "metadata": {},
   "outputs": [
    {
     "name": "stdout",
     "output_type": "stream",
     "text": [
      "\n",
      "✅ Arquivos carregados: 10\n",
      "   trimestre      nomeBandeira nomeFuncao modalidade  qtdCartoesEmitidos  \\\n",
      "0      20231              VISA     Débito       Puro              739765   \n",
      "1      20251  American Express    Crédito       Puro              302476   \n",
      "2      20232        MasterCard    Crédito    Híbrido                4131   \n",
      "3      20242               Elo    Crédito       Puro             3137258   \n",
      "4      20242               Elo    Crédito       Puro               28306   \n",
      "\n",
      "   qtdCartoesAtivos  \n",
      "0            404801  \n",
      "1            228566  \n",
      "2              3397  \n",
      "3           1933287  \n",
      "4             11255  \n"
     ]
    }
   ],
   "source": [
    "arquivos_csv = glob.glob(\"../data/transacoes_cartoes_*.csv\")\n",
    "\n",
    "if not arquivos_csv:\n",
    "    raise FileNotFoundError(\"Nenhum arquivo CSV encontrado no caminho especificado!\")\n",
    "\n",
    "df_lista = []\n",
    "for arquivo in arquivos_csv:\n",
    "    try:\n",
    "        df_temp = pd.read_csv(arquivo)\n",
    "        if not df_temp.empty:\n",
    "            df_lista.append(df_temp)\n",
    "        else:\n",
    "            print(f\"⚠️ Arquivo vazio ignorado: {arquivo}\")\n",
    "    except pd.errors.EmptyDataError:\n",
    "        print(f\"⚠️ Arquivo com erro ignorado: {arquivo}\")\n",
    "\n",
    "if not df_lista:\n",
    "    raise ValueError(\"Nenhum CSV válido encontrado para concatenar.\")\n",
    "\n",
    "dados_df = pd.concat(df_lista, ignore_index=True)\n",
    "\n",
    "print(f\"\\n✅ Arquivos carregados: {len(df_lista)}\")\n",
    "print(dados_df.head())\n"
   ]
  },
  {
   "cell_type": "markdown",
   "metadata": {},
   "source": [
    "Verificando valores nulos e vendo tipo de dados"
   ]
  },
  {
   "cell_type": "code",
   "execution_count": 13,
   "metadata": {},
   "outputs": [
    {
     "name": "stdout",
     "output_type": "stream",
     "text": [
      "🔎 Valores nulos por coluna:\n",
      "trimestre             0\n",
      "nomeBandeira          0\n",
      "nomeFuncao            0\n",
      "modalidade            0\n",
      "qtdCartoesEmitidos    0\n",
      "qtdCartoesAtivos      0\n",
      "dtype: int64\n",
      "\n",
      "🔎 Tipos de dados:\n",
      "trimestre              int64\n",
      "nomeBandeira          object\n",
      "nomeFuncao            object\n",
      "modalidade            object\n",
      "qtdCartoesEmitidos     int64\n",
      "qtdCartoesAtivos       int64\n",
      "dtype: object\n"
     ]
    }
   ],
   "source": [
    "print(\"🔎 Valores nulos por coluna:\")\n",
    "print(dados_df.isnull().sum())\n",
    "\n",
    "\n",
    "print(\"\\n🔎 Tipos de dados:\")\n",
    "print(dados_df.dtypes)"
   ]
  },
  {
   "cell_type": "markdown",
   "metadata": {},
   "source": [
    "Renomeando Colunas e salvando nova versão como um novo csv"
   ]
  },
  {
   "cell_type": "code",
   "execution_count": 24,
   "metadata": {},
   "outputs": [
    {
     "name": "stdout",
     "output_type": "stream",
     "text": [
      "Arquivo tratado salvo em: ../outputs/cartoes_tratados.csv\n",
      "   Trimestre          Bandeira   Funcao Modalidade  qtd_emitidos  qtd_ativos\n",
      "0      20231              VISA   Débito       Puro        739765      404801\n",
      "1      20251  American Express  Crédito       Puro        302476      228566\n",
      "2      20232        MasterCard  Crédito    Híbrido          4131        3397\n",
      "3      20242               Elo  Crédito       Puro       3137258     1933287\n",
      "4      20242               Elo  Crédito       Puro         28306       11255\n"
     ]
    }
   ],
   "source": [
    "# Caminho para os CSVs\n",
    "arquivos_csv = glob.glob(\"../data/transacoes_cartoes_*.csv\")\n",
    "\n",
    "# Carrega e concatena todos\n",
    "df = pd.concat([pd.read_csv(arq) for arq in arquivos_csv], ignore_index=True)\n",
    "\n",
    "# Renomeia colunas\n",
    "df_tratado = df.rename(columns={\n",
    "    \"trimestre\": \"Trimestre\",\n",
    "    \"nomeBandeira\": \"Bandeira\",\n",
    "    \"nomeFuncao\": \"Funcao\",\n",
    "    \"modalidade\": \"Modalidade\",\n",
    "    \"qtdCartoesEmitidos\": \"qtd_emitidos\",\n",
    "    \"qtdCartoesAtivos\": \"qtd_ativos\"\n",
    "})\n",
    "\n",
    "# Garante que a pasta de saída existe\n",
    "os.makedirs(\"../outputs\", exist_ok=True)\n",
    "\n",
    "# Salva o arquivo tratado\n",
    "df_tratado.to_csv(\"../outputs/cartoes_tratados.csv\", index=False, encoding=\"utf-8-sig\")\n",
    "\n",
    "print(f\"Arquivo tratado salvo em: ../outputs/cartoes_tratados.csv\")\n",
    "print(df_tratado.head())"
   ]
  },
  {
   "cell_type": "markdown",
   "metadata": {},
   "source": [
    "Converte para numérico caso o dado venha como string"
   ]
  },
  {
   "cell_type": "code",
   "execution_count": 20,
   "metadata": {},
   "outputs": [],
   "source": [
    "if \"qtd_emitidos\" in dados_df.columns:\n",
    "    dados_df[\"qtd_emitidos\"] = pd.to_numeric(dados_df[\"qtd_emitidos\"], errors=\"coerce\")\n",
    "\n",
    "if \"qtd_ativos\" in dados_df.columns:\n",
    "    dados_df[\"qtd_ativos\"] = pd.to_numeric(dados_df[\"qtd_ativos\"], errors=\"coerce\")\n"
   ]
  },
  {
   "cell_type": "markdown",
   "metadata": {},
   "source": [
    "Salvando dados como json já consolidados e tratados"
   ]
  },
  {
   "cell_type": "code",
   "execution_count": 21,
   "metadata": {},
   "outputs": [
    {
     "data": {
      "text/html": [
       "<div>\n",
       "<style scoped>\n",
       "    .dataframe tbody tr th:only-of-type {\n",
       "        vertical-align: middle;\n",
       "    }\n",
       "\n",
       "    .dataframe tbody tr th {\n",
       "        vertical-align: top;\n",
       "    }\n",
       "\n",
       "    .dataframe thead th {\n",
       "        text-align: right;\n",
       "    }\n",
       "</style>\n",
       "<table border=\"1\" class=\"dataframe\">\n",
       "  <thead>\n",
       "    <tr style=\"text-align: right;\">\n",
       "      <th></th>\n",
       "      <th>Trimestre</th>\n",
       "      <th>Bandeira</th>\n",
       "      <th>Funcao</th>\n",
       "      <th>Modalidade</th>\n",
       "      <th>qtd_emitidos</th>\n",
       "      <th>qtd_ativos</th>\n",
       "    </tr>\n",
       "  </thead>\n",
       "  <tbody>\n",
       "    <tr>\n",
       "      <th>0</th>\n",
       "      <td>20231</td>\n",
       "      <td>VISA</td>\n",
       "      <td>Débito</td>\n",
       "      <td>Puro</td>\n",
       "      <td>739765</td>\n",
       "      <td>404801</td>\n",
       "    </tr>\n",
       "    <tr>\n",
       "      <th>1</th>\n",
       "      <td>20251</td>\n",
       "      <td>American Express</td>\n",
       "      <td>Crédito</td>\n",
       "      <td>Puro</td>\n",
       "      <td>302476</td>\n",
       "      <td>228566</td>\n",
       "    </tr>\n",
       "    <tr>\n",
       "      <th>2</th>\n",
       "      <td>20232</td>\n",
       "      <td>MasterCard</td>\n",
       "      <td>Crédito</td>\n",
       "      <td>Híbrido</td>\n",
       "      <td>4131</td>\n",
       "      <td>3397</td>\n",
       "    </tr>\n",
       "    <tr>\n",
       "      <th>3</th>\n",
       "      <td>20242</td>\n",
       "      <td>Elo</td>\n",
       "      <td>Crédito</td>\n",
       "      <td>Puro</td>\n",
       "      <td>3137258</td>\n",
       "      <td>1933287</td>\n",
       "    </tr>\n",
       "    <tr>\n",
       "      <th>4</th>\n",
       "      <td>20242</td>\n",
       "      <td>Elo</td>\n",
       "      <td>Crédito</td>\n",
       "      <td>Puro</td>\n",
       "      <td>28306</td>\n",
       "      <td>11255</td>\n",
       "    </tr>\n",
       "  </tbody>\n",
       "</table>\n",
       "</div>"
      ],
      "text/plain": [
       "   Trimestre          Bandeira   Funcao Modalidade  qtd_emitidos  qtd_ativos\n",
       "0      20231              VISA   Débito       Puro        739765      404801\n",
       "1      20251  American Express  Crédito       Puro        302476      228566\n",
       "2      20232        MasterCard  Crédito    Híbrido          4131        3397\n",
       "3      20242               Elo  Crédito       Puro       3137258     1933287\n",
       "4      20242               Elo  Crédito       Puro         28306       11255"
      ]
     },
     "execution_count": 21,
     "metadata": {},
     "output_type": "execute_result"
    }
   ],
   "source": [
    "df_tratado.to_csv(\"../outputs/cartoes_tratados.csv\", index=False, encoding=\"utf-8-sig\")\n",
    "df_tratado.to_json(\"../outputs/cartoes_tratados.json\", orient=\"records\", force_ascii=False, indent=4)\n",
    "\n",
    "df_tratado.head()"
   ]
  },
  {
   "cell_type": "markdown",
   "metadata": {},
   "source": [
    "Conferindo os dados tratados"
   ]
  },
  {
   "cell_type": "code",
   "execution_count": 22,
   "metadata": {},
   "outputs": [
    {
     "name": "stdout",
     "output_type": "stream",
     "text": [
      "Colunas do dataset tratado:\n",
      "['Trimestre', 'Bandeira', 'Funcao', 'Modalidade', 'qtd_emitidos', 'qtd_ativos']\n"
     ]
    }
   ],
   "source": [
    "print(\"Colunas do dataset tratado:\")\n",
    "print(df_tratado.columns.tolist())"
   ]
  },
  {
   "cell_type": "code",
   "execution_count": 23,
   "metadata": {},
   "outputs": [
    {
     "data": {
      "text/html": [
       "<div>\n",
       "<style scoped>\n",
       "    .dataframe tbody tr th:only-of-type {\n",
       "        vertical-align: middle;\n",
       "    }\n",
       "\n",
       "    .dataframe tbody tr th {\n",
       "        vertical-align: top;\n",
       "    }\n",
       "\n",
       "    .dataframe thead th {\n",
       "        text-align: right;\n",
       "    }\n",
       "</style>\n",
       "<table border=\"1\" class=\"dataframe\">\n",
       "  <thead>\n",
       "    <tr style=\"text-align: right;\">\n",
       "      <th></th>\n",
       "      <th>Trimestre</th>\n",
       "      <th>Bandeira</th>\n",
       "      <th>Funcao</th>\n",
       "      <th>Modalidade</th>\n",
       "      <th>qtd_emitidos</th>\n",
       "      <th>qtd_ativos</th>\n",
       "    </tr>\n",
       "  </thead>\n",
       "  <tbody>\n",
       "    <tr>\n",
       "      <th>0</th>\n",
       "      <td>20231</td>\n",
       "      <td>VISA</td>\n",
       "      <td>Débito</td>\n",
       "      <td>Puro</td>\n",
       "      <td>739765</td>\n",
       "      <td>404801</td>\n",
       "    </tr>\n",
       "    <tr>\n",
       "      <th>1</th>\n",
       "      <td>20251</td>\n",
       "      <td>American Express</td>\n",
       "      <td>Crédito</td>\n",
       "      <td>Puro</td>\n",
       "      <td>302476</td>\n",
       "      <td>228566</td>\n",
       "    </tr>\n",
       "    <tr>\n",
       "      <th>2</th>\n",
       "      <td>20232</td>\n",
       "      <td>MasterCard</td>\n",
       "      <td>Crédito</td>\n",
       "      <td>Híbrido</td>\n",
       "      <td>4131</td>\n",
       "      <td>3397</td>\n",
       "    </tr>\n",
       "    <tr>\n",
       "      <th>3</th>\n",
       "      <td>20242</td>\n",
       "      <td>Elo</td>\n",
       "      <td>Crédito</td>\n",
       "      <td>Puro</td>\n",
       "      <td>3137258</td>\n",
       "      <td>1933287</td>\n",
       "    </tr>\n",
       "    <tr>\n",
       "      <th>4</th>\n",
       "      <td>20242</td>\n",
       "      <td>Elo</td>\n",
       "      <td>Crédito</td>\n",
       "      <td>Puro</td>\n",
       "      <td>28306</td>\n",
       "      <td>11255</td>\n",
       "    </tr>\n",
       "  </tbody>\n",
       "</table>\n",
       "</div>"
      ],
      "text/plain": [
       "   Trimestre          Bandeira   Funcao Modalidade  qtd_emitidos  qtd_ativos\n",
       "0      20231              VISA   Débito       Puro        739765      404801\n",
       "1      20251  American Express  Crédito       Puro        302476      228566\n",
       "2      20232        MasterCard  Crédito    Híbrido          4131        3397\n",
       "3      20242               Elo  Crédito       Puro       3137258     1933287\n",
       "4      20242               Elo  Crédito       Puro         28306       11255"
      ]
     },
     "execution_count": 23,
     "metadata": {},
     "output_type": "execute_result"
    }
   ],
   "source": [
    "df_tratado.head()"
   ]
  }
 ],
 "metadata": {
  "kernelspec": {
   "display_name": ".venv",
   "language": "python",
   "name": "python3"
  },
  "language_info": {
   "codemirror_mode": {
    "name": "ipython",
    "version": 3
   },
   "file_extension": ".py",
   "mimetype": "text/x-python",
   "name": "python",
   "nbconvert_exporter": "python",
   "pygments_lexer": "ipython3",
   "version": "3.13.4"
  }
 },
 "nbformat": 4,
 "nbformat_minor": 2
}
