{
 "cells": [
  {
   "cell_type": "code",
   "execution_count": 1,
   "metadata": {},
   "outputs": [],
   "source": [
    "import os\n",
    "import pandas as pd"
   ]
  },
  {
   "cell_type": "code",
   "execution_count": 2,
   "metadata": {},
   "outputs": [
    {
     "name": "stdout",
     "output_type": "stream",
     "text": [
      "Index(['AnoMes', 'quantidadePix', 'valorPix', 'quantidadeTED',\n",
      "       'quantidadeBoleto', 'valorBoleto'],\n",
      "      dtype='object')\n"
     ]
    },
    {
     "data": {
      "text/html": [
       "<div>\n",
       "<style scoped>\n",
       "    .dataframe tbody tr th:only-of-type {\n",
       "        vertical-align: middle;\n",
       "    }\n",
       "\n",
       "    .dataframe tbody tr th {\n",
       "        vertical-align: top;\n",
       "    }\n",
       "\n",
       "    .dataframe thead th {\n",
       "        text-align: right;\n",
       "    }\n",
       "</style>\n",
       "<table border=\"1\" class=\"dataframe\">\n",
       "  <thead>\n",
       "    <tr style=\"text-align: right;\">\n",
       "      <th></th>\n",
       "      <th>AnoMes</th>\n",
       "      <th>quantidadePix</th>\n",
       "      <th>valorPix</th>\n",
       "      <th>quantidadeTED</th>\n",
       "      <th>quantidadeBoleto</th>\n",
       "      <th>valorBoleto</th>\n",
       "    </tr>\n",
       "  </thead>\n",
       "  <tbody>\n",
       "    <tr>\n",
       "      <th>0</th>\n",
       "      <td>202508</td>\n",
       "      <td>6975807.64</td>\n",
       "      <td>3035719.59</td>\n",
       "      <td>64506.60</td>\n",
       "      <td>328959.80</td>\n",
       "      <td>522435.28</td>\n",
       "    </tr>\n",
       "    <tr>\n",
       "      <th>1</th>\n",
       "      <td>202507</td>\n",
       "      <td>6698199.41</td>\n",
       "      <td>3058594.05</td>\n",
       "      <td>67192.89</td>\n",
       "      <td>353819.55</td>\n",
       "      <td>564569.38</td>\n",
       "    </tr>\n",
       "    <tr>\n",
       "      <th>2</th>\n",
       "      <td>202506</td>\n",
       "      <td>6464326.98</td>\n",
       "      <td>2869827.25</td>\n",
       "      <td>62477.43</td>\n",
       "      <td>338127.37</td>\n",
       "      <td>523439.24</td>\n",
       "    </tr>\n",
       "    <tr>\n",
       "      <th>3</th>\n",
       "      <td>202505</td>\n",
       "      <td>6643181.07</td>\n",
       "      <td>2822151.68</td>\n",
       "      <td>64178.98</td>\n",
       "      <td>340006.42</td>\n",
       "      <td>532979.61</td>\n",
       "    </tr>\n",
       "    <tr>\n",
       "      <th>4</th>\n",
       "      <td>202504</td>\n",
       "      <td>6278102.17</td>\n",
       "      <td>2676807.70</td>\n",
       "      <td>64449.00</td>\n",
       "      <td>341624.79</td>\n",
       "      <td>539022.34</td>\n",
       "    </tr>\n",
       "  </tbody>\n",
       "</table>\n",
       "</div>"
      ],
      "text/plain": [
       "   AnoMes  quantidadePix    valorPix  quantidadeTED  quantidadeBoleto  \\\n",
       "0  202508     6975807.64  3035719.59       64506.60         328959.80   \n",
       "1  202507     6698199.41  3058594.05       67192.89         353819.55   \n",
       "2  202506     6464326.98  2869827.25       62477.43         338127.37   \n",
       "3  202505     6643181.07  2822151.68       64178.98         340006.42   \n",
       "4  202504     6278102.17  2676807.70       64449.00         341624.79   \n",
       "\n",
       "   valorBoleto  \n",
       "0    522435.28  \n",
       "1    564569.38  \n",
       "2    523439.24  \n",
       "3    532979.61  \n",
       "4    539022.34  "
      ]
     },
     "execution_count": 2,
     "metadata": {},
     "output_type": "execute_result"
    }
   ],
   "source": [
    "os.makedirs(\"../outputs\", exist_ok=True)\n",
    "\n",
    "dados_df = pd.read_csv(\"../data/meios_pagamentos_2023_2025.csv\")\n",
    "\n",
    "print(dados_df.columns)\n",
    "dados_df.head()"
   ]
  },
  {
   "cell_type": "markdown",
   "metadata": {},
   "source": [
    "Verificando se há valores nulos"
   ]
  },
  {
   "cell_type": "code",
   "execution_count": 3,
   "metadata": {},
   "outputs": [
    {
     "name": "stdout",
     "output_type": "stream",
     "text": [
      " Valores nulos por coluna:\n",
      "AnoMes              0\n",
      "quantidadePix       0\n",
      "valorPix            0\n",
      "quantidadeTED       0\n",
      "quantidadeBoleto    0\n",
      "valorBoleto         0\n",
      "dtype: int64\n"
     ]
    }
   ],
   "source": [
    "print(\" Valores nulos por coluna:\")\n",
    "print(dados_df.isnull().sum())"
   ]
  },
  {
   "cell_type": "markdown",
   "metadata": {},
   "source": [
    "Renomeando colunas para padrão snake_case"
   ]
  },
  {
   "cell_type": "code",
   "execution_count": 4,
   "metadata": {},
   "outputs": [
    {
     "data": {
      "text/html": [
       "<div>\n",
       "<style scoped>\n",
       "    .dataframe tbody tr th:only-of-type {\n",
       "        vertical-align: middle;\n",
       "    }\n",
       "\n",
       "    .dataframe tbody tr th {\n",
       "        vertical-align: top;\n",
       "    }\n",
       "\n",
       "    .dataframe thead th {\n",
       "        text-align: right;\n",
       "    }\n",
       "</style>\n",
       "<table border=\"1\" class=\"dataframe\">\n",
       "  <thead>\n",
       "    <tr style=\"text-align: right;\">\n",
       "      <th></th>\n",
       "      <th>ano_mes</th>\n",
       "      <th>qtd_pix</th>\n",
       "      <th>valor_pix</th>\n",
       "      <th>qtd_ted</th>\n",
       "      <th>qtd_boleto</th>\n",
       "      <th>valor_boleto</th>\n",
       "    </tr>\n",
       "  </thead>\n",
       "  <tbody>\n",
       "    <tr>\n",
       "      <th>0</th>\n",
       "      <td>202508</td>\n",
       "      <td>6975807.64</td>\n",
       "      <td>3035719.59</td>\n",
       "      <td>64506.60</td>\n",
       "      <td>328959.80</td>\n",
       "      <td>522435.28</td>\n",
       "    </tr>\n",
       "    <tr>\n",
       "      <th>1</th>\n",
       "      <td>202507</td>\n",
       "      <td>6698199.41</td>\n",
       "      <td>3058594.05</td>\n",
       "      <td>67192.89</td>\n",
       "      <td>353819.55</td>\n",
       "      <td>564569.38</td>\n",
       "    </tr>\n",
       "    <tr>\n",
       "      <th>2</th>\n",
       "      <td>202506</td>\n",
       "      <td>6464326.98</td>\n",
       "      <td>2869827.25</td>\n",
       "      <td>62477.43</td>\n",
       "      <td>338127.37</td>\n",
       "      <td>523439.24</td>\n",
       "    </tr>\n",
       "    <tr>\n",
       "      <th>3</th>\n",
       "      <td>202505</td>\n",
       "      <td>6643181.07</td>\n",
       "      <td>2822151.68</td>\n",
       "      <td>64178.98</td>\n",
       "      <td>340006.42</td>\n",
       "      <td>532979.61</td>\n",
       "    </tr>\n",
       "    <tr>\n",
       "      <th>4</th>\n",
       "      <td>202504</td>\n",
       "      <td>6278102.17</td>\n",
       "      <td>2676807.70</td>\n",
       "      <td>64449.00</td>\n",
       "      <td>341624.79</td>\n",
       "      <td>539022.34</td>\n",
       "    </tr>\n",
       "  </tbody>\n",
       "</table>\n",
       "</div>"
      ],
      "text/plain": [
       "   ano_mes     qtd_pix   valor_pix   qtd_ted  qtd_boleto  valor_boleto\n",
       "0   202508  6975807.64  3035719.59  64506.60   328959.80     522435.28\n",
       "1   202507  6698199.41  3058594.05  67192.89   353819.55     564569.38\n",
       "2   202506  6464326.98  2869827.25  62477.43   338127.37     523439.24\n",
       "3   202505  6643181.07  2822151.68  64178.98   340006.42     532979.61\n",
       "4   202504  6278102.17  2676807.70  64449.00   341624.79     539022.34"
      ]
     },
     "execution_count": 4,
     "metadata": {},
     "output_type": "execute_result"
    }
   ],
   "source": [
    "dados_df = dados_df.rename(columns={\n",
    "    \"AnoMes\": \"ano_mes\",\n",
    "    \"quantidadePix\": \"qtd_pix\",\n",
    "    \"valorPix\": \"valor_pix\",\n",
    "    \"quantidadeTED\": \"qtd_ted\",\n",
    "    \"valorTED\": \"valor_ted\",\n",
    "    \"quantidadeTEC\": \"qtd_tec\",\n",
    "    \"valorTEC\": \"valor_tec\",\n",
    "    \"quantidadeCheque\": \"qtd_cheque\",\n",
    "    \"valorCheque\": \"valor_cheque\",\n",
    "    \"quantidadeBoleto\": \"qtd_boleto\",\n",
    "    \"valorBoleto\": \"valor_boleto\",\n",
    "    \"quantidadeDOC\": \"qtd_doc\",\n",
    "    \"valorDOC\": \"valor_doc\"\n",
    "})\n",
    "\n",
    "dados_df.head()"
   ]
  },
  {
   "cell_type": "markdown",
   "metadata": {},
   "source": [
    "Garantindo colunas numéricas e strings"
   ]
  },
  {
   "cell_type": "code",
   "execution_count": 5,
   "metadata": {},
   "outputs": [
    {
     "name": "stdout",
     "output_type": "stream",
     "text": [
      "ano_mes          object\n",
      "qtd_pix         float64\n",
      "valor_pix       float64\n",
      "qtd_ted         float64\n",
      "qtd_boleto      float64\n",
      "valor_boleto    float64\n",
      "dtype: object\n"
     ]
    },
    {
     "data": {
      "text/html": [
       "<div>\n",
       "<style scoped>\n",
       "    .dataframe tbody tr th:only-of-type {\n",
       "        vertical-align: middle;\n",
       "    }\n",
       "\n",
       "    .dataframe tbody tr th {\n",
       "        vertical-align: top;\n",
       "    }\n",
       "\n",
       "    .dataframe thead th {\n",
       "        text-align: right;\n",
       "    }\n",
       "</style>\n",
       "<table border=\"1\" class=\"dataframe\">\n",
       "  <thead>\n",
       "    <tr style=\"text-align: right;\">\n",
       "      <th></th>\n",
       "      <th>ano_mes</th>\n",
       "      <th>qtd_pix</th>\n",
       "      <th>valor_pix</th>\n",
       "      <th>qtd_ted</th>\n",
       "      <th>qtd_boleto</th>\n",
       "      <th>valor_boleto</th>\n",
       "    </tr>\n",
       "  </thead>\n",
       "  <tbody>\n",
       "    <tr>\n",
       "      <th>0</th>\n",
       "      <td>202508</td>\n",
       "      <td>6975807.64</td>\n",
       "      <td>3035719.59</td>\n",
       "      <td>64506.60</td>\n",
       "      <td>328959.80</td>\n",
       "      <td>522435.28</td>\n",
       "    </tr>\n",
       "    <tr>\n",
       "      <th>1</th>\n",
       "      <td>202507</td>\n",
       "      <td>6698199.41</td>\n",
       "      <td>3058594.05</td>\n",
       "      <td>67192.89</td>\n",
       "      <td>353819.55</td>\n",
       "      <td>564569.38</td>\n",
       "    </tr>\n",
       "    <tr>\n",
       "      <th>2</th>\n",
       "      <td>202506</td>\n",
       "      <td>6464326.98</td>\n",
       "      <td>2869827.25</td>\n",
       "      <td>62477.43</td>\n",
       "      <td>338127.37</td>\n",
       "      <td>523439.24</td>\n",
       "    </tr>\n",
       "    <tr>\n",
       "      <th>3</th>\n",
       "      <td>202505</td>\n",
       "      <td>6643181.07</td>\n",
       "      <td>2822151.68</td>\n",
       "      <td>64178.98</td>\n",
       "      <td>340006.42</td>\n",
       "      <td>532979.61</td>\n",
       "    </tr>\n",
       "    <tr>\n",
       "      <th>4</th>\n",
       "      <td>202504</td>\n",
       "      <td>6278102.17</td>\n",
       "      <td>2676807.70</td>\n",
       "      <td>64449.00</td>\n",
       "      <td>341624.79</td>\n",
       "      <td>539022.34</td>\n",
       "    </tr>\n",
       "  </tbody>\n",
       "</table>\n",
       "</div>"
      ],
      "text/plain": [
       "  ano_mes     qtd_pix   valor_pix   qtd_ted  qtd_boleto  valor_boleto\n",
       "0  202508  6975807.64  3035719.59  64506.60   328959.80     522435.28\n",
       "1  202507  6698199.41  3058594.05  67192.89   353819.55     564569.38\n",
       "2  202506  6464326.98  2869827.25  62477.43   338127.37     523439.24\n",
       "3  202505  6643181.07  2822151.68  64178.98   340006.42     532979.61\n",
       "4  202504  6278102.17  2676807.70  64449.00   341624.79     539022.34"
      ]
     },
     "execution_count": 5,
     "metadata": {},
     "output_type": "execute_result"
    }
   ],
   "source": [
    "dados_df[\"ano_mes\"] = dados_df[\"ano_mes\"].astype(str)\n",
    "\n",
    "colunas_numericas = [\n",
    "    \"qtd_pix\", \"valor_pix\",\n",
    "    \"qtd_ted\", \"valor_ted\",\n",
    "    \"qtd_tec\", \"valor_tec\",\n",
    "    \"qtd_cheque\", \"valor_cheque\",\n",
    "    \"qtd_boleto\", \"valor_boleto\",\n",
    "    \"qtd_doc\", \"valor_doc\"\n",
    "]\n",
    "\n",
    "for col in colunas_numericas:\n",
    "    if col in dados_df.columns:\n",
    "        dados_df[col] = pd.to_numeric(dados_df[col], errors=\"coerce\")\n",
    "\n",
    "print(dados_df.dtypes)\n",
    "dados_df.head()"
   ]
  },
  {
   "cell_type": "code",
   "execution_count": null,
   "metadata": {},
   "outputs": [],
   "source": []
  },
  {
   "cell_type": "markdown",
   "metadata": {},
   "source": [
    "Salvando dados tratados"
   ]
  },
  {
   "cell_type": "code",
   "execution_count": 6,
   "metadata": {},
   "outputs": [
    {
     "name": "stdout",
     "output_type": "stream",
     "text": [
      "✅ Arquivos consolidados e tratados salvos em ../outputs/\n"
     ]
    }
   ],
   "source": [
    "dados_df.to_csv(\"../outputs/meios_pagamentos_tratados.csv\", index=False, encoding=\"utf-8-sig\")\n",
    "\n",
    "dados_df.to_json(\"../outputs/meios_pagamentos_tratados.json\", orient=\"records\", force_ascii=False, indent=4)\n",
    "\n",
    "print(\"✅ Arquivos consolidados e tratados salvos em ../outputs/\")"
   ]
  }
 ],
 "metadata": {
  "kernelspec": {
   "display_name": ".venv",
   "language": "python",
   "name": "python3"
  },
  "language_info": {
   "codemirror_mode": {
    "name": "ipython",
    "version": 3
   },
   "file_extension": ".py",
   "mimetype": "text/x-python",
   "name": "python",
   "nbconvert_exporter": "python",
   "pygments_lexer": "ipython3",
   "version": "3.13.4"
  }
 },
 "nbformat": 4,
 "nbformat_minor": 2
}
